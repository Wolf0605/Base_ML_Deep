{
  "nbformat": 4,
  "nbformat_minor": 0,
  "metadata": {
    "colab": {
      "name": "multi_variable_linear_regression",
      "provenance": []
    },
    "kernelspec": {
      "name": "python3",
      "display_name": "Python 3"
    },
    "language_info": {
      "name": "python"
    }
  },
  "cells": [
    {
      "cell_type": "code",
      "metadata": {
        "id": "p5Shf4tJemg-"
      },
      "source": [
        "import tensorflow as tf\n",
        "import numpy as np\n",
        "import tensorflow.keras as keras\n",
        "import matplotlib.pyplot as plt"
      ],
      "execution_count": 51,
      "outputs": []
    },
    {
      "cell_type": "code",
      "metadata": {
        "id": "iF55E6qlfFhj"
      },
      "source": [
        "X_train = [[73., 80., 75.],\n",
        "          [93., 88., 93.],\n",
        "          [89., 91., 90.],\n",
        "          [96., 98., 100.],\n",
        "          [73., 66., 70.]]\n",
        "\n",
        "y_train = [[152],\n",
        "          [185],\n",
        "          [180],\n",
        "          [196],\n",
        "          [142]]         "
      ],
      "execution_count": 8,
      "outputs": []
    },
    {
      "cell_type": "code",
      "metadata": {
        "id": "EOuHy2wufN32"
      },
      "source": [
        "# model 은 input 행이 몇개인지 안궁금하다, dimension 만 궁금하다??\n",
        "model = keras.Sequential(keras.layers.Dense(units=1, input_dim=3, activation='linear'))\n",
        "# optimzer 에서 learning_rate 조절 하는 법\n",
        "model.compile(loss='mse', optimizer=keras.optimizers.SGD(learning_rate=1e-6))"
      ],
      "execution_count": 77,
      "outputs": []
    },
    {
      "cell_type": "code",
      "metadata": {
        "colab": {
          "base_uri": "https://localhost:8080/"
        },
        "id": "qilFKkvmh7P1",
        "outputId": "c1cc8564-7cbf-4a0b-cc8a-89dde0344b63"
      },
      "source": [
        "model.summary()"
      ],
      "execution_count": 78,
      "outputs": [
        {
          "output_type": "stream",
          "name": "stdout",
          "text": [
            "Model: \"sequential_14\"\n",
            "_________________________________________________________________\n",
            "Layer (type)                 Output Shape              Param #   \n",
            "=================================================================\n",
            "dense_14 (Dense)             (None, 1)                 4         \n",
            "=================================================================\n",
            "Total params: 4\n",
            "Trainable params: 4\n",
            "Non-trainable params: 0\n",
            "_________________________________________________________________\n"
          ]
        }
      ]
    },
    {
      "cell_type": "code",
      "metadata": {
        "colab": {
          "base_uri": "https://localhost:8080/"
        },
        "id": "7bEQAgBOjAxP",
        "outputId": "76b88d59-38de-4d90-f6e8-074b24e51818"
      },
      "source": [
        "hist = model.fit(X_train, y_train, epochs=100)"
      ],
      "execution_count": 79,
      "outputs": [
        {
          "output_type": "stream",
          "name": "stdout",
          "text": [
            "Epoch 1/100\n",
            "1/1 [==============================] - 0s 225ms/step - loss: 454.0989\n",
            "Epoch 2/100\n",
            "1/1 [==============================] - 0s 4ms/step - loss: 415.2127\n",
            "Epoch 3/100\n",
            "1/1 [==============================] - 0s 7ms/step - loss: 379.6748\n",
            "Epoch 4/100\n",
            "1/1 [==============================] - 0s 5ms/step - loss: 347.1959\n",
            "Epoch 5/100\n",
            "1/1 [==============================] - 0s 4ms/step - loss: 317.5129\n",
            "Epoch 6/100\n",
            "1/1 [==============================] - 0s 5ms/step - loss: 290.3855\n",
            "Epoch 7/100\n",
            "1/1 [==============================] - 0s 4ms/step - loss: 265.5936\n",
            "Epoch 8/100\n",
            "1/1 [==============================] - 0s 5ms/step - loss: 242.9358\n",
            "Epoch 9/100\n",
            "1/1 [==============================] - 0s 5ms/step - loss: 222.2288\n",
            "Epoch 10/100\n",
            "1/1 [==============================] - 0s 5ms/step - loss: 203.3046\n",
            "Epoch 11/100\n",
            "1/1 [==============================] - 0s 4ms/step - loss: 186.0089\n",
            "Epoch 12/100\n",
            "1/1 [==============================] - 0s 8ms/step - loss: 170.2028\n",
            "Epoch 13/100\n",
            "1/1 [==============================] - 0s 10ms/step - loss: 155.7576\n",
            "Epoch 14/100\n",
            "1/1 [==============================] - 0s 5ms/step - loss: 142.5553\n",
            "Epoch 15/100\n",
            "1/1 [==============================] - 0s 5ms/step - loss: 130.4901\n",
            "Epoch 16/100\n",
            "1/1 [==============================] - 0s 5ms/step - loss: 119.4636\n",
            "Epoch 17/100\n",
            "1/1 [==============================] - 0s 5ms/step - loss: 109.3860\n",
            "Epoch 18/100\n",
            "1/1 [==============================] - 0s 4ms/step - loss: 100.1763\n",
            "Epoch 19/100\n",
            "1/1 [==============================] - 0s 7ms/step - loss: 91.7594\n",
            "Epoch 20/100\n",
            "1/1 [==============================] - 0s 5ms/step - loss: 84.0671\n",
            "Epoch 21/100\n",
            "1/1 [==============================] - 0s 5ms/step - loss: 77.0369\n",
            "Epoch 22/100\n",
            "1/1 [==============================] - 0s 7ms/step - loss: 70.6120\n",
            "Epoch 23/100\n",
            "1/1 [==============================] - 0s 4ms/step - loss: 64.7402\n",
            "Epoch 24/100\n",
            "1/1 [==============================] - 0s 12ms/step - loss: 59.3740\n",
            "Epoch 25/100\n",
            "1/1 [==============================] - 0s 4ms/step - loss: 54.4696\n",
            "Epoch 26/100\n",
            "1/1 [==============================] - 0s 5ms/step - loss: 49.9875\n",
            "Epoch 27/100\n",
            "1/1 [==============================] - 0s 4ms/step - loss: 45.8912\n",
            "Epoch 28/100\n",
            "1/1 [==============================] - 0s 5ms/step - loss: 42.1477\n",
            "Epoch 29/100\n",
            "1/1 [==============================] - 0s 4ms/step - loss: 38.7266\n",
            "Epoch 30/100\n",
            "1/1 [==============================] - 0s 4ms/step - loss: 35.5997\n",
            "Epoch 31/100\n",
            "1/1 [==============================] - 0s 5ms/step - loss: 32.7421\n",
            "Epoch 32/100\n",
            "1/1 [==============================] - 0s 6ms/step - loss: 30.1305\n",
            "Epoch 33/100\n",
            "1/1 [==============================] - 0s 4ms/step - loss: 27.7437\n",
            "Epoch 34/100\n",
            "1/1 [==============================] - 0s 4ms/step - loss: 25.5624\n",
            "Epoch 35/100\n",
            "1/1 [==============================] - 0s 4ms/step - loss: 23.5688\n",
            "Epoch 36/100\n",
            "1/1 [==============================] - 0s 5ms/step - loss: 21.7469\n",
            "Epoch 37/100\n",
            "1/1 [==============================] - 0s 5ms/step - loss: 20.0818\n",
            "Epoch 38/100\n",
            "1/1 [==============================] - 0s 5ms/step - loss: 18.5600\n",
            "Epoch 39/100\n",
            "1/1 [==============================] - 0s 5ms/step - loss: 17.1694\n",
            "Epoch 40/100\n",
            "1/1 [==============================] - 0s 4ms/step - loss: 15.8983\n",
            "Epoch 41/100\n",
            "1/1 [==============================] - 0s 4ms/step - loss: 14.7368\n",
            "Epoch 42/100\n",
            "1/1 [==============================] - 0s 4ms/step - loss: 13.6751\n",
            "Epoch 43/100\n",
            "1/1 [==============================] - 0s 4ms/step - loss: 12.7050\n",
            "Epoch 44/100\n",
            "1/1 [==============================] - 0s 6ms/step - loss: 11.8183\n",
            "Epoch 45/100\n",
            "1/1 [==============================] - 0s 5ms/step - loss: 11.0078\n",
            "Epoch 46/100\n",
            "1/1 [==============================] - 0s 3ms/step - loss: 10.2673\n",
            "Epoch 47/100\n",
            "1/1 [==============================] - 0s 5ms/step - loss: 9.5904\n",
            "Epoch 48/100\n",
            "1/1 [==============================] - 0s 9ms/step - loss: 8.9718\n",
            "Epoch 49/100\n",
            "1/1 [==============================] - 0s 6ms/step - loss: 8.4064\n",
            "Epoch 50/100\n",
            "1/1 [==============================] - 0s 4ms/step - loss: 7.8897\n",
            "Epoch 51/100\n",
            "1/1 [==============================] - 0s 5ms/step - loss: 7.4175\n",
            "Epoch 52/100\n",
            "1/1 [==============================] - 0s 7ms/step - loss: 6.9860\n",
            "Epoch 53/100\n",
            "1/1 [==============================] - 0s 7ms/step - loss: 6.5916\n",
            "Epoch 54/100\n",
            "1/1 [==============================] - 0s 4ms/step - loss: 6.2311\n",
            "Epoch 55/100\n",
            "1/1 [==============================] - 0s 5ms/step - loss: 5.9017\n",
            "Epoch 56/100\n",
            "1/1 [==============================] - 0s 5ms/step - loss: 5.6006\n",
            "Epoch 57/100\n",
            "1/1 [==============================] - 0s 4ms/step - loss: 5.3254\n",
            "Epoch 58/100\n",
            "1/1 [==============================] - 0s 5ms/step - loss: 5.0739\n",
            "Epoch 59/100\n",
            "1/1 [==============================] - 0s 4ms/step - loss: 4.8440\n",
            "Epoch 60/100\n",
            "1/1 [==============================] - 0s 4ms/step - loss: 4.6340\n",
            "Epoch 61/100\n",
            "1/1 [==============================] - 0s 4ms/step - loss: 4.4420\n",
            "Epoch 62/100\n",
            "1/1 [==============================] - 0s 5ms/step - loss: 4.2665\n",
            "Epoch 63/100\n",
            "1/1 [==============================] - 0s 5ms/step - loss: 4.1062\n",
            "Epoch 64/100\n",
            "1/1 [==============================] - 0s 5ms/step - loss: 3.9596\n",
            "Epoch 65/100\n",
            "1/1 [==============================] - 0s 6ms/step - loss: 3.8257\n",
            "Epoch 66/100\n",
            "1/1 [==============================] - 0s 4ms/step - loss: 3.7032\n",
            "Epoch 67/100\n",
            "1/1 [==============================] - 0s 4ms/step - loss: 3.5913\n",
            "Epoch 68/100\n",
            "1/1 [==============================] - 0s 9ms/step - loss: 3.4890\n",
            "Epoch 69/100\n",
            "1/1 [==============================] - 0s 4ms/step - loss: 3.3955\n",
            "Epoch 70/100\n",
            "1/1 [==============================] - 0s 4ms/step - loss: 3.3101\n",
            "Epoch 71/100\n",
            "1/1 [==============================] - 0s 4ms/step - loss: 3.2320\n",
            "Epoch 72/100\n",
            "1/1 [==============================] - 0s 5ms/step - loss: 3.1606\n",
            "Epoch 73/100\n",
            "1/1 [==============================] - 0s 5ms/step - loss: 3.0954\n",
            "Epoch 74/100\n",
            "1/1 [==============================] - 0s 5ms/step - loss: 3.0358\n",
            "Epoch 75/100\n",
            "1/1 [==============================] - 0s 4ms/step - loss: 2.9812\n",
            "Epoch 76/100\n",
            "1/1 [==============================] - 0s 5ms/step - loss: 2.9314\n",
            "Epoch 77/100\n",
            "1/1 [==============================] - 0s 5ms/step - loss: 2.8859\n",
            "Epoch 78/100\n",
            "1/1 [==============================] - 0s 5ms/step - loss: 2.8443\n",
            "Epoch 79/100\n",
            "1/1 [==============================] - 0s 5ms/step - loss: 2.8062\n",
            "Epoch 80/100\n",
            "1/1 [==============================] - 0s 4ms/step - loss: 2.7714\n",
            "Epoch 81/100\n",
            "1/1 [==============================] - 0s 4ms/step - loss: 2.7397\n",
            "Epoch 82/100\n",
            "1/1 [==============================] - 0s 4ms/step - loss: 2.7106\n",
            "Epoch 83/100\n",
            "1/1 [==============================] - 0s 5ms/step - loss: 2.6840\n",
            "Epoch 84/100\n",
            "1/1 [==============================] - 0s 5ms/step - loss: 2.6597\n",
            "Epoch 85/100\n",
            "1/1 [==============================] - 0s 6ms/step - loss: 2.6375\n",
            "Epoch 86/100\n",
            "1/1 [==============================] - 0s 4ms/step - loss: 2.6172\n",
            "Epoch 87/100\n",
            "1/1 [==============================] - 0s 4ms/step - loss: 2.5987\n",
            "Epoch 88/100\n",
            "1/1 [==============================] - 0s 10ms/step - loss: 2.5817\n",
            "Epoch 89/100\n",
            "1/1 [==============================] - 0s 4ms/step - loss: 2.5662\n",
            "Epoch 90/100\n",
            "1/1 [==============================] - 0s 4ms/step - loss: 2.5520\n",
            "Epoch 91/100\n",
            "1/1 [==============================] - 0s 4ms/step - loss: 2.5390\n",
            "Epoch 92/100\n",
            "1/1 [==============================] - 0s 5ms/step - loss: 2.5272\n",
            "Epoch 93/100\n",
            "1/1 [==============================] - 0s 5ms/step - loss: 2.5164\n",
            "Epoch 94/100\n",
            "1/1 [==============================] - 0s 7ms/step - loss: 2.5064\n",
            "Epoch 95/100\n",
            "1/1 [==============================] - 0s 4ms/step - loss: 2.4974\n",
            "Epoch 96/100\n",
            "1/1 [==============================] - 0s 8ms/step - loss: 2.4890\n",
            "Epoch 97/100\n",
            "1/1 [==============================] - 0s 15ms/step - loss: 2.4814\n",
            "Epoch 98/100\n",
            "1/1 [==============================] - 0s 5ms/step - loss: 2.4745\n",
            "Epoch 99/100\n",
            "1/1 [==============================] - 0s 4ms/step - loss: 2.4681\n",
            "Epoch 100/100\n",
            "1/1 [==============================] - 0s 4ms/step - loss: 2.4623\n"
          ]
        }
      ]
    },
    {
      "cell_type": "code",
      "metadata": {
        "colab": {
          "base_uri": "https://localhost:8080/"
        },
        "id": "rW3IuFngj2BQ",
        "outputId": "973ba646-933c-444b-fb03-47922f2055c9"
      },
      "source": [
        "y_predict = model.predict(np.array([[73., 80., 75]]))\n",
        "y_predict"
      ],
      "execution_count": 80,
      "outputs": [
        {
          "output_type": "execute_result",
          "data": {
            "text/plain": [
              "array([[152.2754]], dtype=float32)"
            ]
          },
          "metadata": {},
          "execution_count": 80
        }
      ]
    },
    {
      "cell_type": "code",
      "metadata": {
        "colab": {
          "base_uri": "https://localhost:8080/",
          "height": 295
        },
        "id": "GsxLEnrekFdg",
        "outputId": "27b80ff0-7d4a-4abd-a77b-7cdba5e357d7"
      },
      "source": [
        "plt.plot(hist.history['loss'])\n",
        "plt.title('Model loss')\n",
        "plt.ylabel('loss')\n",
        "plt.xlabel('epochs')\n",
        "plt.legend(['Train'], loc='upper right')\n",
        "plt.show()"
      ],
      "execution_count": 81,
      "outputs": [
        {
          "output_type": "display_data",
          "data": {
            "image/png": "[encoded data removed]",
            "text/plain": [
              "<Figure size 432x288 with 1 Axes>"
            ]
          },
          "metadata": {
            "needs_background": "light"
          }
        }
      ]
    },
    {
      "cell_type": "code",
      "metadata": {
        "id": "EWS4-jLElbow"
      },
      "source": [
        "# Question\n",
        "model 정의할때 input_shape 에서 궁금한거는 , input 하는게 몇차원인지만 중요한가??(몇행인지는 안중요??)\n",
        "\n",
        "model.summary() 에서 나오는 Param 은 무엇인가??\n",
        "\n",
        "왜 model.fit (학습시킬때마다) 다르게 적용되는지??"
      ],
      "execution_count": null,
      "outputs": []
    }
  ]
}