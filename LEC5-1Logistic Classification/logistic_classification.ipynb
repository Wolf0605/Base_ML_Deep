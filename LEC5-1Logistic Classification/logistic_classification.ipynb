{
  "nbformat": 4,
  "nbformat_minor": 0,
  "metadata": {
    "colab": {
      "name": "logistic_classification",
      "provenance": []
    },
    "kernelspec": {
      "name": "python3",
      "display_name": "Python 3"
    },
    "language_info": {
      "name": "python"
    }
  },
  "cells": [
    {
      "cell_type": "code",
      "metadata": {
        "id": "a1yq8tQQtce_"
      },
      "source": [
        "import tensorflow as tf\n",
        "import tensorflow.keras as keras\n",
        "import numpy as np\n",
        "import matplotlib.pyplot as plt"
      ],
      "execution_count": 9,
      "outputs": []
    },
    {
      "cell_type": "code",
      "metadata": {
        "colab": {
          "base_uri": "https://localhost:8080/"
        },
        "id": "CfeWUs7wwxC3",
        "outputId": "00049922-e254-4aa8-f84a-17f73605c9d0"
      },
      "source": [
        "X_train = [[1,2,],\n",
        "           [2,3],\n",
        "           [3,4],\n",
        "           [4,5],\n",
        "           [1,6]\n",
        "           ,[2,7]\n",
        "           ,[6,8],\n",
        "           [9,9]]\n",
        "\n",
        "y_train = [[0],\n",
        "           [0],\n",
        "           [0],\n",
        "           [0],\n",
        "           [1],\n",
        "           [1],\n",
        "           [1],\n",
        "           [1]]\n",
        "\n",
        "model = keras.Sequential(keras.layers.Dense(units=1, activation = 'sigmoid',input_shape=(2, )))\n",
        "\n",
        "# metrics 는 평가지표 \n",
        "\n",
        "model.compile(loss='mse', optimizer=keras.optimizers.SGD(learning_rate=0.035), metrics=['accuracy'])\n",
        "model.summary()"
      ],
      "execution_count": 67,
      "outputs": [
        {
          "output_type": "stream",
          "name": "stdout",
          "text": [
            "Model: \"sequential_12\"\n",
            "_________________________________________________________________\n",
            "Layer (type)                 Output Shape              Param #   \n",
            "=================================================================\n",
            "dense_12 (Dense)             (None, 1)                 3         \n",
            "=================================================================\n",
            "Total params: 3\n",
            "Trainable params: 3\n",
            "Non-trainable params: 0\n",
            "_________________________________________________________________\n"
          ]
        }
      ]
    },
    {
      "cell_type": "code",
      "metadata": {
        "id": "Sau4CgeHxi9h"
      },
      "source": [
        "hist = model.fit(X_train, y_train, epochs=500)"
      ],
      "execution_count": null,
      "outputs": []
    },
    {
      "cell_type": "code",
      "metadata": {
        "colab": {
          "base_uri": "https://localhost:8080/",
          "height": 295
        },
        "id": "cStSss2uyEMt",
        "outputId": "725a5a20-1f1f-4ee1-cdde-ffdf0a0094c5"
      },
      "source": [
        "plt.plot(hist.history['loss'])\n",
        "plt.title('accuracy')\n",
        "plt.ylabel('loss')\n",
        "plt.xlabel('epochs')\n",
        "plt.show()"
      ],
      "execution_count": 69,
      "outputs": [
        {
          "output_type": "display_data",
          "data": {
            "image/png": "[encoded data removed]",
            "text/plain": [
              "<Figure size 432x288 with 1 Axes>"
            ]
          },
          "metadata": {
            "needs_background": "light"
          }
        }
      ]
    },
    {
      "cell_type": "code",
      "metadata": {
        "colab": {
          "base_uri": "https://localhost:8080/"
        },
        "id": "2mSUnLH4yeI3",
        "outputId": "d0cffded-30c3-4204-b063-fb20820f4299"
      },
      "source": [
        "print(\"Accuracy : \", hist.history['accuracy'][-1])\n",
        "y_predict = model.predict([[1,5]])\n",
        "if y_predict >= 0.5:\n",
        "  print(y_predict)\n",
        "else:\n",
        "  print(\"FAIL\")"
      ],
      "execution_count": 70,
      "outputs": [
        {
          "output_type": "stream",
          "name": "stdout",
          "text": [
            "Accuracy :  0.875\n",
            "[[0.6758083]]\n"
          ]
        }
      ]
    },
    {
      "cell_type": "code",
      "metadata": {
        "id": "KXAkkCWQ0HZJ"
      },
      "source": [
        ""
      ],
      "execution_count": null,
      "outputs": []
    }
  ]
}