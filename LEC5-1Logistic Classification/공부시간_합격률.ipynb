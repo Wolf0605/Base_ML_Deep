{
  "nbformat": 4,
  "nbformat_minor": 0,
  "metadata": {
    "colab": {
      "name": "공부시간 합격률",
      "provenance": []
    },
    "kernelspec": {
      "name": "python3",
      "display_name": "Python 3"
    },
    "language_info": {
      "name": "python"
    }
  },
  "cells": [
    {
      "cell_type": "code",
      "metadata": {
        "id": "a1yq8tQQtce_"
      },
      "source": [
        "import tensorflow as tf\n",
        "import tensorflow.keras as keras\n",
        "import numpy as np\n",
        "import matplotlib.pyplot as plt"
      ],
      "execution_count": 1,
      "outputs": []
    },
    {
      "cell_type": "code",
      "metadata": {
        "colab": {
          "base_uri": "https://localhost:8080/"
        },
        "id": "CfeWUs7wwxC3",
        "outputId": "3a518c42-0a0f-470b-fa3d-7ecb20934fc8"
      },
      "source": [
        "pass_time = [7, 8, 9, 9, 9.5, 10, 12, 14, 14.5, 15, 16, 16, 16.5, 17, 17, 17, 17.5, 20, 20, 20,50]\n",
        "fail_time = [0, 1, 2, 2.1, 2.6, 2.7, 2.8, 2.9, 3, 3.2, 3.4, 3.5, 3.6, 3, 5, 5.2, 5.4, 6]\n",
        "\n",
        "# X = pass_time + fail_time\n",
        "X = np.hstack((pass_time, fail_time))\n",
        "print(X)\n",
        "\n",
        "y1 = [1] * len(pass_time)\n",
        "y0 = [0] * len(fail_time)\n",
        "y = np.hstack((y1, y0))\n",
        "print(y)"
      ],
      "execution_count": 12,
      "outputs": [
        {
          "output_type": "stream",
          "name": "stdout",
          "text": [
            "[ 7.   8.   9.   9.   9.5 10.  12.  14.  14.5 15.  16.  16.  16.5 17.\n",
            " 17.  17.  17.5 20.  20.  20.  50.   0.   1.   2.   2.1  2.6  2.7  2.8\n",
            "  2.9  3.   3.2  3.4  3.5  3.6  3.   5.   5.2  5.4  6. ]\n",
            "[1 1 1 1 1 1 1 1 1 1 1 1 1 1 1 1 1 1 1 1 1 0 0 0 0 0 0 0 0 0 0 0 0 0 0 0 0\n",
            " 0 0]\n"
          ]
        }
      ]
    },
    {
      "cell_type": "code",
      "metadata": {
        "colab": {
          "base_uri": "https://localhost:8080/",
          "height": 265
        },
        "id": "josHFSFIYW9i",
        "outputId": "40b17854-3a6c-4a66-c395-ef9bdbf35d30"
      },
      "source": [
        "plt.scatter(X,y)\n",
        "plt.grid()"
      ],
      "execution_count": 13,
      "outputs": [
        {
          "output_type": "display_data",
          "data": {
            "image/png": "[encoded data removed]",
            "text/plain": [
              "<Figure size 432x288 with 1 Axes>"
            ]
          },
          "metadata": {
            "needs_background": "light"
          }
        }
      ]
    },
    {
      "cell_type": "code",
      "metadata": {
        "colab": {
          "base_uri": "https://localhost:8080/"
        },
        "id": "N7gL5-bwX0c9",
        "outputId": "3447905b-7ebc-4798-dfd8-84d46b6bc903"
      },
      "source": [
        "model = keras.Sequential(keras.layers.Dense(units=1, activation = 'sigmoid',input_shape=(1, )))\n",
        "\n",
        "# metrics 는 평가지표 \n",
        "\n",
        "model.compile(loss='binary_crossentropy', optimizer=keras.optimizers.SGD(learning_rate=0.02), metrics=['accuracy'])\n",
        "model.summary()"
      ],
      "execution_count": 48,
      "outputs": [
        {
          "output_type": "stream",
          "name": "stdout",
          "text": [
            "Model: \"sequential_3\"\n",
            "_________________________________________________________________\n",
            "Layer (type)                 Output Shape              Param #   \n",
            "=================================================================\n",
            "dense_3 (Dense)              (None, 1)                 2         \n",
            "=================================================================\n",
            "Total params: 2\n",
            "Trainable params: 2\n",
            "Non-trainable params: 0\n",
            "_________________________________________________________________\n"
          ]
        }
      ]
    },
    {
      "cell_type": "code",
      "metadata": {
        "id": "Sau4CgeHxi9h"
      },
      "source": [
        "hist = model.fit(X, y, epochs=1000)"
      ],
      "execution_count": null,
      "outputs": []
    },
    {
      "cell_type": "code",
      "metadata": {
        "colab": {
          "base_uri": "https://localhost:8080/",
          "height": 295
        },
        "id": "cStSss2uyEMt",
        "outputId": "39c7700c-1cda-4e0c-d8a1-09042b56a975"
      },
      "source": [
        "plt.plot(hist.history['loss'])\n",
        "plt.title('accuracy')\n",
        "plt.ylabel('loss')\n",
        "plt.xlabel('epochs')\n",
        "plt.show()"
      ],
      "execution_count": 55,
      "outputs": [
        {
          "output_type": "display_data",
          "data": {
            "image/png": "[encoded data removed]",
            "text/plain": [
              "<Figure size 432x288 with 1 Axes>"
            ]
          },
          "metadata": {
            "needs_background": "light"
          }
        }
      ]
    },
    {
      "cell_type": "code",
      "metadata": {
        "colab": {
          "base_uri": "https://localhost:8080/"
        },
        "id": "2mSUnLH4yeI3",
        "outputId": "8abe523a-d051-472c-dbb2-5f2766f91d4b"
      },
      "source": [
        "print(\"Accuracy : \", hist.history['accuracy'][-1])\n",
        "y_predict = model.predict([6, 1, 2, 3, 6.5])\n",
        "print(y_predict)"
      ],
      "execution_count": 59,
      "outputs": [
        {
          "output_type": "stream",
          "name": "stdout",
          "text": [
            "Accuracy :  1.0\n",
            "[[0.43723267]\n",
            " [0.0281451 ]\n",
            " [0.05295286]\n",
            " [0.09743458]\n",
            " [0.51912624]]\n"
          ]
        }
      ]
    },
    {
      "cell_type": "code",
      "metadata": {
        "id": "KXAkkCWQ0HZJ",
        "colab": {
          "base_uri": "https://localhost:8080/"
        },
        "outputId": "ff04fa08-9334-40af-f923-fc84bca9b522"
      },
      "source": [
        "pred = 8\n",
        "y_predict = model.predict([pred])\n",
        "if pred < fail_time[-1]:\n",
        "  print(\"FAIL\")\n",
        "else:\n",
        "  print(y_predict)"
      ],
      "execution_count": 62,
      "outputs": [
        {
          "output_type": "stream",
          "name": "stdout",
          "text": [
            "[[0.74333435]]\n"
          ]
        }
      ]
    },
    {
      "cell_type": "code",
      "metadata": {
        "id": "LYqHfAaiZVPh"
      },
      "source": [
        ""
      ],
      "execution_count": null,
      "outputs": []
    }
  ]
}